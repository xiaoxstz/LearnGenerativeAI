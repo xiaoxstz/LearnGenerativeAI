{
 "cells": [
  {
   "cell_type": "markdown",
   "metadata": {},
   "source": [
    "# **Plugin 定义**"
   ]
  },
  {
   "cell_type": "markdown",
   "metadata": {},
   "source": [
    "\n",
    "![skpatternlarge](./imgs/01/skpatternlarge.png)\n",
    "\n",
    "插件是 Semantic Kernel 的基本构建块，可以与 ChatGPT、Bing 和 Microsoft 365 中的插件进行互操作。通过插件，您可以将功能封装到单个功能中，然后由 Kernel 运行。 Plugins 可以用代码定义，也可以通过模版，也可以通过自定义函数实现\n",
    "\n",
    "\n",
    "![crossplatformplugins](./imgs/02/cross-platform-plugins.png)"
   ]
  },
  {
   "cell_type": "code",
   "execution_count": 1,
   "metadata": {},
   "outputs": [
    {
     "name": "stdout",
     "output_type": "stream",
     "text": [
      "Requirement already satisfied: semantic-kernel in /opt/conda/envs/pydev/lib/python3.10/site-packages (0.4.0.dev0)\n",
      "Requirement already satisfied: aiofiles<24.0.0,>=23.1.0 in /opt/conda/envs/pydev/lib/python3.10/site-packages (from semantic-kernel) (23.2.1)\n",
      "Requirement already satisfied: aiohttp<4.0,>=3.8 in /opt/conda/envs/pydev/lib/python3.10/site-packages (from semantic-kernel) (3.9.1)\n",
      "Requirement already satisfied: motor<4.0.0,>=3.3.1 in /opt/conda/envs/pydev/lib/python3.10/site-packages (from semantic-kernel) (3.3.2)\n",
      "Requirement already satisfied: numpy<2.0.0,>=1.24.2 in /opt/conda/envs/pydev/lib/python3.10/site-packages (from semantic-kernel) (1.26.2)\n",
      "Requirement already satisfied: openai>=1.0 in /opt/conda/envs/pydev/lib/python3.10/site-packages (from semantic-kernel) (1.3.6)\n",
      "Requirement already satisfied: openapi_core<0.19.0,>=0.18.0 in /opt/conda/envs/pydev/lib/python3.10/site-packages (from semantic-kernel) (0.18.2)\n",
      "Requirement already satisfied: prance<24.0.0.0,>=23.6.21.0 in /opt/conda/envs/pydev/lib/python3.10/site-packages (from semantic-kernel) (23.6.21.0)\n",
      "Requirement already satisfied: pydantic<2 in /opt/conda/envs/pydev/lib/python3.10/site-packages (from semantic-kernel) (1.10.13)\n",
      "Requirement already satisfied: python-dotenv==1.0.0 in /opt/conda/envs/pydev/lib/python3.10/site-packages (from semantic-kernel) (1.0.0)\n",
      "Requirement already satisfied: regex<2024.0.0,>=2023.6.3 in /opt/conda/envs/pydev/lib/python3.10/site-packages (from semantic-kernel) (2023.10.3)\n",
      "Requirement already satisfied: attrs>=17.3.0 in /opt/conda/envs/pydev/lib/python3.10/site-packages (from aiohttp<4.0,>=3.8->semantic-kernel) (23.1.0)\n",
      "Requirement already satisfied: multidict<7.0,>=4.5 in /opt/conda/envs/pydev/lib/python3.10/site-packages (from aiohttp<4.0,>=3.8->semantic-kernel) (6.0.4)\n",
      "Requirement already satisfied: yarl<2.0,>=1.0 in /opt/conda/envs/pydev/lib/python3.10/site-packages (from aiohttp<4.0,>=3.8->semantic-kernel) (1.9.3)\n",
      "Requirement already satisfied: frozenlist>=1.1.1 in /opt/conda/envs/pydev/lib/python3.10/site-packages (from aiohttp<4.0,>=3.8->semantic-kernel) (1.4.0)\n",
      "Requirement already satisfied: aiosignal>=1.1.2 in /opt/conda/envs/pydev/lib/python3.10/site-packages (from aiohttp<4.0,>=3.8->semantic-kernel) (1.3.1)\n",
      "Requirement already satisfied: async-timeout<5.0,>=4.0 in /opt/conda/envs/pydev/lib/python3.10/site-packages (from aiohttp<4.0,>=3.8->semantic-kernel) (4.0.3)\n",
      "Requirement already satisfied: pymongo<5,>=4.5 in /opt/conda/envs/pydev/lib/python3.10/site-packages (from motor<4.0.0,>=3.3.1->semantic-kernel) (4.6.1)\n",
      "Requirement already satisfied: anyio<4,>=3.5.0 in /opt/conda/envs/pydev/lib/python3.10/site-packages (from openai>=1.0->semantic-kernel) (3.7.1)\n",
      "Requirement already satisfied: distro<2,>=1.7.0 in /opt/conda/envs/pydev/lib/python3.10/site-packages (from openai>=1.0->semantic-kernel) (1.8.0)\n",
      "Requirement already satisfied: httpx<1,>=0.23.0 in /opt/conda/envs/pydev/lib/python3.10/site-packages (from openai>=1.0->semantic-kernel) (0.25.2)\n",
      "Requirement already satisfied: sniffio in /opt/conda/envs/pydev/lib/python3.10/site-packages (from openai>=1.0->semantic-kernel) (1.3.0)\n",
      "Requirement already satisfied: tqdm>4 in /opt/conda/envs/pydev/lib/python3.10/site-packages (from openai>=1.0->semantic-kernel) (4.66.1)\n",
      "Requirement already satisfied: typing-extensions<5,>=4.5 in /opt/conda/envs/pydev/lib/python3.10/site-packages (from openai>=1.0->semantic-kernel) (4.8.0)\n",
      "Requirement already satisfied: asgiref<4.0.0,>=3.6.0 in /opt/conda/envs/pydev/lib/python3.10/site-packages (from openapi_core<0.19.0,>=0.18.0->semantic-kernel) (3.7.2)\n",
      "Requirement already satisfied: isodate in /opt/conda/envs/pydev/lib/python3.10/site-packages (from openapi_core<0.19.0,>=0.18.0->semantic-kernel) (0.6.1)\n",
      "Requirement already satisfied: jsonschema<5.0.0,>=4.18.0 in /opt/conda/envs/pydev/lib/python3.10/site-packages (from openapi_core<0.19.0,>=0.18.0->semantic-kernel) (4.20.0)\n",
      "Requirement already satisfied: jsonschema-spec<0.3.0,>=0.2.3 in /opt/conda/envs/pydev/lib/python3.10/site-packages (from openapi_core<0.19.0,>=0.18.0->semantic-kernel) (0.2.4)\n",
      "Requirement already satisfied: more-itertools in /opt/conda/envs/pydev/lib/python3.10/site-packages (from openapi_core<0.19.0,>=0.18.0->semantic-kernel) (10.1.0)\n",
      "Requirement already satisfied: openapi-schema-validator<0.7.0,>=0.6.0 in /opt/conda/envs/pydev/lib/python3.10/site-packages (from openapi_core<0.19.0,>=0.18.0->semantic-kernel) (0.6.2)\n",
      "Requirement already satisfied: openapi-spec-validator<0.8.0,>=0.7.1 in /opt/conda/envs/pydev/lib/python3.10/site-packages (from openapi_core<0.19.0,>=0.18.0->semantic-kernel) (0.7.1)\n",
      "Requirement already satisfied: parse in /opt/conda/envs/pydev/lib/python3.10/site-packages (from openapi_core<0.19.0,>=0.18.0->semantic-kernel) (1.20.0)\n",
      "Requirement already satisfied: werkzeug in /opt/conda/envs/pydev/lib/python3.10/site-packages (from openapi_core<0.19.0,>=0.18.0->semantic-kernel) (3.0.1)\n",
      "Requirement already satisfied: chardet>=3.0 in /opt/conda/envs/pydev/lib/python3.10/site-packages (from prance<24.0.0.0,>=23.6.21.0->semantic-kernel) (5.2.0)\n",
      "Requirement already satisfied: ruamel.yaml>=0.17.10 in /opt/conda/envs/pydev/lib/python3.10/site-packages (from prance<24.0.0.0,>=23.6.21.0->semantic-kernel) (0.18.5)\n",
      "Requirement already satisfied: requests>=2.25 in /opt/conda/envs/pydev/lib/python3.10/site-packages (from prance<24.0.0.0,>=23.6.21.0->semantic-kernel) (2.31.0)\n",
      "Requirement already satisfied: six~=1.15 in /opt/conda/envs/pydev/lib/python3.10/site-packages (from prance<24.0.0.0,>=23.6.21.0->semantic-kernel) (1.16.0)\n",
      "Requirement already satisfied: packaging>=21.3 in /opt/conda/envs/pydev/lib/python3.10/site-packages (from prance<24.0.0.0,>=23.6.21.0->semantic-kernel) (23.2)\n",
      "Requirement already satisfied: idna>=2.8 in /opt/conda/envs/pydev/lib/python3.10/site-packages (from anyio<4,>=3.5.0->openai>=1.0->semantic-kernel) (3.6)\n",
      "Requirement already satisfied: exceptiongroup in /opt/conda/envs/pydev/lib/python3.10/site-packages (from anyio<4,>=3.5.0->openai>=1.0->semantic-kernel) (1.2.0)\n",
      "Requirement already satisfied: certifi in /opt/conda/envs/pydev/lib/python3.10/site-packages (from httpx<1,>=0.23.0->openai>=1.0->semantic-kernel) (2023.11.17)\n",
      "Requirement already satisfied: httpcore==1.* in /opt/conda/envs/pydev/lib/python3.10/site-packages (from httpx<1,>=0.23.0->openai>=1.0->semantic-kernel) (1.0.2)\n",
      "Requirement already satisfied: h11<0.15,>=0.13 in /opt/conda/envs/pydev/lib/python3.10/site-packages (from httpcore==1.*->httpx<1,>=0.23.0->openai>=1.0->semantic-kernel) (0.14.0)\n",
      "Requirement already satisfied: jsonschema-specifications>=2023.03.6 in /opt/conda/envs/pydev/lib/python3.10/site-packages (from jsonschema<5.0.0,>=4.18.0->openapi_core<0.19.0,>=0.18.0->semantic-kernel) (2023.7.1)\n",
      "Requirement already satisfied: referencing>=0.28.4 in /opt/conda/envs/pydev/lib/python3.10/site-packages (from jsonschema<5.0.0,>=4.18.0->openapi_core<0.19.0,>=0.18.0->semantic-kernel) (0.30.2)\n",
      "Requirement already satisfied: rpds-py>=0.7.1 in /opt/conda/envs/pydev/lib/python3.10/site-packages (from jsonschema<5.0.0,>=4.18.0->openapi_core<0.19.0,>=0.18.0->semantic-kernel) (0.13.2)\n",
      "Requirement already satisfied: PyYAML>=5.1 in /opt/conda/envs/pydev/lib/python3.10/site-packages (from jsonschema-spec<0.3.0,>=0.2.3->openapi_core<0.19.0,>=0.18.0->semantic-kernel) (6.0.1)\n",
      "Requirement already satisfied: pathable<0.5.0,>=0.4.1 in /opt/conda/envs/pydev/lib/python3.10/site-packages (from jsonschema-spec<0.3.0,>=0.2.3->openapi_core<0.19.0,>=0.18.0->semantic-kernel) (0.4.3)\n",
      "Requirement already satisfied: rfc3339-validator in /opt/conda/envs/pydev/lib/python3.10/site-packages (from openapi-schema-validator<0.7.0,>=0.6.0->openapi_core<0.19.0,>=0.18.0->semantic-kernel) (0.1.4)\n",
      "Requirement already satisfied: jsonschema-path<0.4.0,>=0.3.1 in /opt/conda/envs/pydev/lib/python3.10/site-packages (from openapi-spec-validator<0.8.0,>=0.7.1->openapi_core<0.19.0,>=0.18.0->semantic-kernel) (0.3.2)\n",
      "Requirement already satisfied: lazy-object-proxy<2.0.0,>=1.7.1 in /opt/conda/envs/pydev/lib/python3.10/site-packages (from openapi-spec-validator<0.8.0,>=0.7.1->openapi_core<0.19.0,>=0.18.0->semantic-kernel) (1.9.0)\n",
      "Requirement already satisfied: dnspython<3.0.0,>=1.16.0 in /opt/conda/envs/pydev/lib/python3.10/site-packages (from pymongo<5,>=4.5->motor<4.0.0,>=3.3.1->semantic-kernel) (2.4.2)\n",
      "Requirement already satisfied: charset-normalizer<4,>=2 in /opt/conda/envs/pydev/lib/python3.10/site-packages (from requests>=2.25->prance<24.0.0.0,>=23.6.21.0->semantic-kernel) (3.3.2)\n",
      "Requirement already satisfied: urllib3<3,>=1.21.1 in /opt/conda/envs/pydev/lib/python3.10/site-packages (from requests>=2.25->prance<24.0.0.0,>=23.6.21.0->semantic-kernel) (2.1.0)\n",
      "Requirement already satisfied: ruamel.yaml.clib>=0.2.7 in /opt/conda/envs/pydev/lib/python3.10/site-packages (from ruamel.yaml>=0.17.10->prance<24.0.0.0,>=23.6.21.0->semantic-kernel) (0.2.8)\n",
      "Requirement already satisfied: MarkupSafe>=2.1.1 in /opt/conda/envs/pydev/lib/python3.10/site-packages (from werkzeug->openapi_core<0.19.0,>=0.18.0->semantic-kernel) (2.1.3)\n",
      "Requirement already satisfied: python-dotenv in /opt/conda/envs/pydev/lib/python3.10/site-packages (1.0.0)\n"
     ]
    }
   ],
   "source": [
    "! pip install semantic-kernel -U\n",
    "! pip install python-dotenv"
   ]
  },
  {
   "cell_type": "code",
   "execution_count": 2,
   "metadata": {},
   "outputs": [],
   "source": [
    "import semantic_kernel as sk\n",
    "from dotenv import load_dotenv\n",
    "import semantic_kernel.connectors.ai.open_ai as skaoai"
   ]
  },
  {
   "cell_type": "code",
   "execution_count": 3,
   "metadata": {},
   "outputs": [],
   "source": [
    "kernel = sk.Kernel()\n",
    "deployment, api_key, endpoint = sk.azure_openai_settings_from_dot_env()"
   ]
  },
  {
   "cell_type": "code",
   "execution_count": 4,
   "metadata": {},
   "outputs": [
    {
     "data": {
      "text/plain": [
       "<semantic_kernel.kernel.Kernel at 0x7f1dbbb47c40>"
      ]
     },
     "execution_count": 4,
     "metadata": {},
     "output_type": "execute_result"
    }
   ],
   "source": [
    "kernel.add_chat_service(\"azure_chat_competion_service\", skaoai.AzureChatCompletion(\"gpt-35-turbo\",endpoint,api_key=api_key,api_version = \"2023-07-01-preview\"))"
   ]
  },
  {
   "cell_type": "code",
   "execution_count": 5,
   "metadata": {},
   "outputs": [],
   "source": [
    "base_plugin = \"./plugins\""
   ]
  },
  {
   "cell_type": "markdown",
   "metadata": {},
   "source": [
    "### **嵌入代码的 Prompt** "
   ]
  },
  {
   "cell_type": "code",
   "execution_count": 6,
   "metadata": {},
   "outputs": [],
   "source": [
    "prompt = \"System:假设你是一名 Python 程序员，根据输入的要求，生成代码。 User:{{$input}}\""
   ]
  },
  {
   "cell_type": "code",
   "execution_count": 7,
   "metadata": {},
   "outputs": [],
   "source": [
    "gencode = kernel.create_semantic_function(prompt, max_tokens=2000, temperature=0.2, top_p=0.5)"
   ]
  },
  {
   "cell_type": "code",
   "execution_count": 8,
   "metadata": {},
   "outputs": [],
   "source": [
    "gen = gencode(\"生成一个冒泡算法\")"
   ]
  },
  {
   "cell_type": "code",
   "execution_count": 9,
   "metadata": {},
   "outputs": [
    {
     "name": "stdout",
     "output_type": "stream",
     "text": [
      "```python\n",
      "def bubble_sort(arr):\n",
      "    n = len(arr)\n",
      "    for i in range(n):\n",
      "        for j in range(0, n-i-1):\n",
      "            if arr[j] > arr[j+1]:\n",
      "                arr[j], arr[j+1] = arr[j+1], arr[j]\n",
      "    return arr\n",
      "\n",
      "# Example usage\n",
      "arr = [64, 34, 25, 12, 22, 11, 90]\n",
      "sorted_arr = bubble_sort(arr)\n",
      "print(\"Sorted array:\", sorted_arr)\n",
      "```\n"
     ]
    }
   ],
   "source": [
    "print(gen)"
   ]
  },
  {
   "cell_type": "markdown",
   "metadata": {},
   "source": [
    "### **通过 Prompt 模版的 Plugin 的 Prompt** "
   ]
  },
  {
   "cell_type": "code",
   "execution_count": 10,
   "metadata": {},
   "outputs": [],
   "source": [
    "translate_plugin = kernel.import_semantic_skill_from_directory(base_plugin,\"TransaltePlugin\")"
   ]
  },
  {
   "cell_type": "code",
   "execution_count": 11,
   "metadata": {},
   "outputs": [],
   "source": [
    "variables = sk.ContextVariables()\n",
    "\n",
    "variables[\"input\"]= \"你好，香港科技大学\"\n",
    "\n",
    "variables[\"language\"]= \"fr\""
   ]
  },
  {
   "cell_type": "code",
   "execution_count": 12,
   "metadata": {},
   "outputs": [],
   "source": [
    "result = await kernel.run_async(\n",
    "    translate_plugin[\"MultiLanguage\"],\n",
    "    input_vars=variables,\n",
    ")"
   ]
  },
  {
   "cell_type": "code",
   "execution_count": 13,
   "metadata": {},
   "outputs": [
    {
     "name": "stdout",
     "output_type": "stream",
     "text": [
      "Bonjour, Université de technologie de Hong Kong\n"
     ]
    }
   ],
   "source": [
    "print(result)"
   ]
  },
  {
   "cell_type": "markdown",
   "metadata": {},
   "source": [
    "### **自定义的 Plugin** "
   ]
  },
  {
   "cell_type": "code",
   "execution_count": 14,
   "metadata": {},
   "outputs": [],
   "source": [
    "api_plugin = kernel.import_native_skill_from_directory(base_plugin , \"APIPlugin\")"
   ]
  },
  {
   "cell_type": "code",
   "execution_count": 15,
   "metadata": {},
   "outputs": [],
   "source": [
    "context_variables = sk.ContextVariables(variables={\n",
    "    \"location\": \"China\"\n",
    "})"
   ]
  },
  {
   "cell_type": "code",
   "execution_count": 16,
   "metadata": {},
   "outputs": [],
   "source": [
    "news_result = await api_plugin[\"NewsPlugin\"].invoke_async( variables=context_variables)"
   ]
  },
  {
   "cell_type": "code",
   "execution_count": 17,
   "metadata": {},
   "outputs": [
    {
     "name": "stdout",
     "output_type": "stream",
     "text": [
      "Get news from the China.\n"
     ]
    }
   ],
   "source": [
    "print(news_result)"
   ]
  }
 ],
 "metadata": {
  "kernelspec": {
   "display_name": "pydev",
   "language": "python",
   "name": "python3"
  },
  "language_info": {
   "codemirror_mode": {
    "name": "ipython",
    "version": 3
   },
   "file_extension": ".py",
   "mimetype": "text/x-python",
   "name": "python",
   "nbconvert_exporter": "python",
   "pygments_lexer": "ipython3",
   "version": "3.10.12"
  }
 },
 "nbformat": 4,
 "nbformat_minor": 2
}

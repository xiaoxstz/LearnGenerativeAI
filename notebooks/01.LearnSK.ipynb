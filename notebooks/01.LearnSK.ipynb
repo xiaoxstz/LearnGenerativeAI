{
 "cells": [
  {
   "cell_type": "markdown",
   "metadata": {},
   "source": [
    "##  **什么是 Semantic Kernel**\n",
    "\n",
    "\n",
    "\n",
    "![skpatternlarge](./imgs/01/skpatternlarge.png)\n",
    "\n",
    "Semantic Kernel 是一个开源的 SDK，它将 OpenAI、Azure OpenAI 和 Hugging Face 等大型语言模型与 C#、Python 和 Java 等传统编程语言集成在一起。 Semantic Kernel 使用几行代码结合不同的插件完成有趣的 Copilot 应用。 Semantic Kernel 是 Copilot Stack 的最佳实践。Semantic Kernel 的特点在于它能够利用人工智能自动编排插件。 通过 Planner，使用大型语言模型生成实现用户独特目标的计划。 \n",
    "\n",
    "![semantic-kernel](./imgs/01/logo.png)"
   ]
  },
  {
   "cell_type": "markdown",
   "metadata": {},
   "source": [
    "*安装 Python Semantic Kernel SDK*"
   ]
  },
  {
   "cell_type": "code",
   "execution_count": 1,
   "metadata": {},
   "outputs": [
    {
     "name": "stdout",
     "output_type": "stream",
     "text": [
      "Requirement already satisfied: semantic-kernel in /opt/conda/envs/pydev/lib/python3.10/site-packages (0.4.0.dev0)\n",
      "Requirement already satisfied: aiofiles<24.0.0,>=23.1.0 in /opt/conda/envs/pydev/lib/python3.10/site-packages (from semantic-kernel) (23.2.1)\n",
      "Requirement already satisfied: aiohttp<4.0,>=3.8 in /opt/conda/envs/pydev/lib/python3.10/site-packages (from semantic-kernel) (3.9.1)\n",
      "Requirement already satisfied: motor<4.0.0,>=3.3.1 in /opt/conda/envs/pydev/lib/python3.10/site-packages (from semantic-kernel) (3.3.2)\n",
      "Requirement already satisfied: numpy<2.0.0,>=1.24.2 in /opt/conda/envs/pydev/lib/python3.10/site-packages (from semantic-kernel) (1.26.2)\n",
      "Requirement already satisfied: openai>=1.0 in /opt/conda/envs/pydev/lib/python3.10/site-packages (from semantic-kernel) (1.3.6)\n",
      "Requirement already satisfied: openapi_core<0.19.0,>=0.18.0 in /opt/conda/envs/pydev/lib/python3.10/site-packages (from semantic-kernel) (0.18.2)\n",
      "Requirement already satisfied: prance<24.0.0.0,>=23.6.21.0 in /opt/conda/envs/pydev/lib/python3.10/site-packages (from semantic-kernel) (23.6.21.0)\n",
      "Requirement already satisfied: pydantic<2 in /opt/conda/envs/pydev/lib/python3.10/site-packages (from semantic-kernel) (1.10.13)\n",
      "Requirement already satisfied: python-dotenv==1.0.0 in /opt/conda/envs/pydev/lib/python3.10/site-packages (from semantic-kernel) (1.0.0)\n",
      "Requirement already satisfied: regex<2024.0.0,>=2023.6.3 in /opt/conda/envs/pydev/lib/python3.10/site-packages (from semantic-kernel) (2023.10.3)\n",
      "Requirement already satisfied: attrs>=17.3.0 in /opt/conda/envs/pydev/lib/python3.10/site-packages (from aiohttp<4.0,>=3.8->semantic-kernel) (23.1.0)\n",
      "Requirement already satisfied: multidict<7.0,>=4.5 in /opt/conda/envs/pydev/lib/python3.10/site-packages (from aiohttp<4.0,>=3.8->semantic-kernel) (6.0.4)\n",
      "Requirement already satisfied: yarl<2.0,>=1.0 in /opt/conda/envs/pydev/lib/python3.10/site-packages (from aiohttp<4.0,>=3.8->semantic-kernel) (1.9.3)\n",
      "Requirement already satisfied: frozenlist>=1.1.1 in /opt/conda/envs/pydev/lib/python3.10/site-packages (from aiohttp<4.0,>=3.8->semantic-kernel) (1.4.0)\n",
      "Requirement already satisfied: aiosignal>=1.1.2 in /opt/conda/envs/pydev/lib/python3.10/site-packages (from aiohttp<4.0,>=3.8->semantic-kernel) (1.3.1)\n",
      "Requirement already satisfied: async-timeout<5.0,>=4.0 in /opt/conda/envs/pydev/lib/python3.10/site-packages (from aiohttp<4.0,>=3.8->semantic-kernel) (4.0.3)\n",
      "Requirement already satisfied: pymongo<5,>=4.5 in /opt/conda/envs/pydev/lib/python3.10/site-packages (from motor<4.0.0,>=3.3.1->semantic-kernel) (4.6.1)\n",
      "Requirement already satisfied: anyio<4,>=3.5.0 in /opt/conda/envs/pydev/lib/python3.10/site-packages (from openai>=1.0->semantic-kernel) (3.7.1)\n",
      "Requirement already satisfied: distro<2,>=1.7.0 in /opt/conda/envs/pydev/lib/python3.10/site-packages (from openai>=1.0->semantic-kernel) (1.8.0)\n",
      "Requirement already satisfied: httpx<1,>=0.23.0 in /opt/conda/envs/pydev/lib/python3.10/site-packages (from openai>=1.0->semantic-kernel) (0.25.2)\n",
      "Requirement already satisfied: sniffio in /opt/conda/envs/pydev/lib/python3.10/site-packages (from openai>=1.0->semantic-kernel) (1.3.0)\n",
      "Requirement already satisfied: tqdm>4 in /opt/conda/envs/pydev/lib/python3.10/site-packages (from openai>=1.0->semantic-kernel) (4.66.1)\n",
      "Requirement already satisfied: typing-extensions<5,>=4.5 in /opt/conda/envs/pydev/lib/python3.10/site-packages (from openai>=1.0->semantic-kernel) (4.8.0)\n",
      "Requirement already satisfied: asgiref<4.0.0,>=3.6.0 in /opt/conda/envs/pydev/lib/python3.10/site-packages (from openapi_core<0.19.0,>=0.18.0->semantic-kernel) (3.7.2)\n",
      "Requirement already satisfied: isodate in /opt/conda/envs/pydev/lib/python3.10/site-packages (from openapi_core<0.19.0,>=0.18.0->semantic-kernel) (0.6.1)\n",
      "Requirement already satisfied: jsonschema<5.0.0,>=4.18.0 in /opt/conda/envs/pydev/lib/python3.10/site-packages (from openapi_core<0.19.0,>=0.18.0->semantic-kernel) (4.20.0)\n",
      "Requirement already satisfied: jsonschema-spec<0.3.0,>=0.2.3 in /opt/conda/envs/pydev/lib/python3.10/site-packages (from openapi_core<0.19.0,>=0.18.0->semantic-kernel) (0.2.4)\n",
      "Requirement already satisfied: more-itertools in /opt/conda/envs/pydev/lib/python3.10/site-packages (from openapi_core<0.19.0,>=0.18.0->semantic-kernel) (10.1.0)\n",
      "Requirement already satisfied: openapi-schema-validator<0.7.0,>=0.6.0 in /opt/conda/envs/pydev/lib/python3.10/site-packages (from openapi_core<0.19.0,>=0.18.0->semantic-kernel) (0.6.2)\n",
      "Requirement already satisfied: openapi-spec-validator<0.8.0,>=0.7.1 in /opt/conda/envs/pydev/lib/python3.10/site-packages (from openapi_core<0.19.0,>=0.18.0->semantic-kernel) (0.7.1)\n",
      "Requirement already satisfied: parse in /opt/conda/envs/pydev/lib/python3.10/site-packages (from openapi_core<0.19.0,>=0.18.0->semantic-kernel) (1.20.0)\n",
      "Requirement already satisfied: werkzeug in /opt/conda/envs/pydev/lib/python3.10/site-packages (from openapi_core<0.19.0,>=0.18.0->semantic-kernel) (3.0.1)\n",
      "Requirement already satisfied: chardet>=3.0 in /opt/conda/envs/pydev/lib/python3.10/site-packages (from prance<24.0.0.0,>=23.6.21.0->semantic-kernel) (5.2.0)\n",
      "Requirement already satisfied: ruamel.yaml>=0.17.10 in /opt/conda/envs/pydev/lib/python3.10/site-packages (from prance<24.0.0.0,>=23.6.21.0->semantic-kernel) (0.18.5)\n",
      "Requirement already satisfied: requests>=2.25 in /opt/conda/envs/pydev/lib/python3.10/site-packages (from prance<24.0.0.0,>=23.6.21.0->semantic-kernel) (2.31.0)\n",
      "Requirement already satisfied: six~=1.15 in /opt/conda/envs/pydev/lib/python3.10/site-packages (from prance<24.0.0.0,>=23.6.21.0->semantic-kernel) (1.16.0)\n",
      "Requirement already satisfied: packaging>=21.3 in /opt/conda/envs/pydev/lib/python3.10/site-packages (from prance<24.0.0.0,>=23.6.21.0->semantic-kernel) (23.2)\n",
      "Requirement already satisfied: idna>=2.8 in /opt/conda/envs/pydev/lib/python3.10/site-packages (from anyio<4,>=3.5.0->openai>=1.0->semantic-kernel) (3.6)\n",
      "Requirement already satisfied: exceptiongroup in /opt/conda/envs/pydev/lib/python3.10/site-packages (from anyio<4,>=3.5.0->openai>=1.0->semantic-kernel) (1.2.0)\n",
      "Requirement already satisfied: certifi in /opt/conda/envs/pydev/lib/python3.10/site-packages (from httpx<1,>=0.23.0->openai>=1.0->semantic-kernel) (2023.11.17)\n",
      "Requirement already satisfied: httpcore==1.* in /opt/conda/envs/pydev/lib/python3.10/site-packages (from httpx<1,>=0.23.0->openai>=1.0->semantic-kernel) (1.0.2)\n",
      "Requirement already satisfied: h11<0.15,>=0.13 in /opt/conda/envs/pydev/lib/python3.10/site-packages (from httpcore==1.*->httpx<1,>=0.23.0->openai>=1.0->semantic-kernel) (0.14.0)\n",
      "Requirement already satisfied: jsonschema-specifications>=2023.03.6 in /opt/conda/envs/pydev/lib/python3.10/site-packages (from jsonschema<5.0.0,>=4.18.0->openapi_core<0.19.0,>=0.18.0->semantic-kernel) (2023.7.1)\n",
      "Requirement already satisfied: referencing>=0.28.4 in /opt/conda/envs/pydev/lib/python3.10/site-packages (from jsonschema<5.0.0,>=4.18.0->openapi_core<0.19.0,>=0.18.0->semantic-kernel) (0.30.2)\n",
      "Requirement already satisfied: rpds-py>=0.7.1 in /opt/conda/envs/pydev/lib/python3.10/site-packages (from jsonschema<5.0.0,>=4.18.0->openapi_core<0.19.0,>=0.18.0->semantic-kernel) (0.13.2)\n",
      "Requirement already satisfied: PyYAML>=5.1 in /opt/conda/envs/pydev/lib/python3.10/site-packages (from jsonschema-spec<0.3.0,>=0.2.3->openapi_core<0.19.0,>=0.18.0->semantic-kernel) (6.0.1)\n",
      "Requirement already satisfied: pathable<0.5.0,>=0.4.1 in /opt/conda/envs/pydev/lib/python3.10/site-packages (from jsonschema-spec<0.3.0,>=0.2.3->openapi_core<0.19.0,>=0.18.0->semantic-kernel) (0.4.3)\n",
      "Requirement already satisfied: rfc3339-validator in /opt/conda/envs/pydev/lib/python3.10/site-packages (from openapi-schema-validator<0.7.0,>=0.6.0->openapi_core<0.19.0,>=0.18.0->semantic-kernel) (0.1.4)\n",
      "Requirement already satisfied: jsonschema-path<0.4.0,>=0.3.1 in /opt/conda/envs/pydev/lib/python3.10/site-packages (from openapi-spec-validator<0.8.0,>=0.7.1->openapi_core<0.19.0,>=0.18.0->semantic-kernel) (0.3.2)\n",
      "Requirement already satisfied: lazy-object-proxy<2.0.0,>=1.7.1 in /opt/conda/envs/pydev/lib/python3.10/site-packages (from openapi-spec-validator<0.8.0,>=0.7.1->openapi_core<0.19.0,>=0.18.0->semantic-kernel) (1.9.0)\n",
      "Requirement already satisfied: dnspython<3.0.0,>=1.16.0 in /opt/conda/envs/pydev/lib/python3.10/site-packages (from pymongo<5,>=4.5->motor<4.0.0,>=3.3.1->semantic-kernel) (2.4.2)\n",
      "Requirement already satisfied: charset-normalizer<4,>=2 in /opt/conda/envs/pydev/lib/python3.10/site-packages (from requests>=2.25->prance<24.0.0.0,>=23.6.21.0->semantic-kernel) (3.3.2)\n",
      "Requirement already satisfied: urllib3<3,>=1.21.1 in /opt/conda/envs/pydev/lib/python3.10/site-packages (from requests>=2.25->prance<24.0.0.0,>=23.6.21.0->semantic-kernel) (2.1.0)\n",
      "Requirement already satisfied: ruamel.yaml.clib>=0.2.7 in /opt/conda/envs/pydev/lib/python3.10/site-packages (from ruamel.yaml>=0.17.10->prance<24.0.0.0,>=23.6.21.0->semantic-kernel) (0.2.8)\n",
      "Requirement already satisfied: MarkupSafe>=2.1.1 in /opt/conda/envs/pydev/lib/python3.10/site-packages (from werkzeug->openapi_core<0.19.0,>=0.18.0->semantic-kernel) (2.1.3)\n"
     ]
    }
   ],
   "source": [
    "# ! pip install semantic-kernel==0.3.15.dev0\n",
    "\n",
    "! pip install semantic-kernel -U"
   ]
  },
  {
   "cell_type": "code",
   "execution_count": 2,
   "metadata": {},
   "outputs": [],
   "source": [
    "import semantic_kernel as sk"
   ]
  },
  {
   "cell_type": "markdown",
   "metadata": {},
   "source": [
    "### **Kernel**\n",
    "\n",
    "Kernel 是 Semantic Kernel 的核心，通过 Kernel 可以链接：\n",
    "\n",
    "- 默认的人工智能服务将为您的语义功能提供支持。\n",
    "- 模板引擎用于渲染提示模板。\n",
    "- 日志用于记录来自函数的消息。\n",
    "- 可供 Kernel 执行的插件\n",
    "- Kernel 通过 KernelConfig 类使用的附加配置。"
   ]
  },
  {
   "cell_type": "markdown",
   "metadata": {},
   "source": [
    "*创建 Kernel 对象*"
   ]
  },
  {
   "cell_type": "code",
   "execution_count": 3,
   "metadata": {},
   "outputs": [],
   "source": [
    "kernel = sk.Kernel()"
   ]
  },
  {
   "cell_type": "markdown",
   "metadata": {},
   "source": [
    "获取默认设置"
   ]
  },
  {
   "cell_type": "code",
   "execution_count": 4,
   "metadata": {},
   "outputs": [],
   "source": [
    "deployment, api_key, endpoint = sk.azure_openai_settings_from_dot_env()"
   ]
  },
  {
   "cell_type": "code",
   "execution_count": 5,
   "metadata": {},
   "outputs": [],
   "source": [
    "import semantic_kernel.connectors.ai.open_ai as skaoai"
   ]
  },
  {
   "cell_type": "code",
   "execution_count": 6,
   "metadata": {},
   "outputs": [
    {
     "data": {
      "text/plain": [
       "'https://loaimodel.openai.azure.com/'"
      ]
     },
     "execution_count": 6,
     "metadata": {},
     "output_type": "execute_result"
    }
   ],
   "source": [
    "endpoint"
   ]
  },
  {
   "cell_type": "markdown",
   "metadata": {},
   "source": [
    "绑定服务"
   ]
  },
  {
   "cell_type": "code",
   "execution_count": 7,
   "metadata": {},
   "outputs": [
    {
     "data": {
      "text/plain": [
       "<semantic_kernel.kernel.Kernel at 0x7faeca9c4ca0>"
      ]
     },
     "execution_count": 7,
     "metadata": {},
     "output_type": "execute_result"
    }
   ],
   "source": [
    "kernel.add_chat_service(\"azure_chat_competion_service\", skaoai.AzureChatCompletion(\"gpt-35-turbo\",endpoint,api_key=api_key,api_version = \"2023-07-01-preview\"))"
   ]
  },
  {
   "cell_type": "markdown",
   "metadata": {},
   "source": [
    "插件默认文件夹，从 Skills 变更为 Plugin"
   ]
  },
  {
   "cell_type": "code",
   "execution_count": 8,
   "metadata": {},
   "outputs": [],
   "source": [
    "base_plugin = \"./plugins\""
   ]
  },
  {
   "cell_type": "code",
   "execution_count": 9,
   "metadata": {},
   "outputs": [],
   "source": [
    "pluginFunc = kernel.import_semantic_skill_from_directory(base_plugin,\"TransaltePlugin\")"
   ]
  },
  {
   "cell_type": "markdown",
   "metadata": {},
   "source": [
    "### **案例：翻译场景**\n",
    "\n",
    "翻译场景的实现"
   ]
  },
  {
   "cell_type": "code",
   "execution_count": 10,
   "metadata": {},
   "outputs": [],
   "source": [
    "translateFunc = pluginFunc[\"Basic\"]"
   ]
  },
  {
   "cell_type": "code",
   "execution_count": 11,
   "metadata": {},
   "outputs": [],
   "source": [
    "result = translateFunc(\"你好，香港科技大学\")"
   ]
  },
  {
   "cell_type": "code",
   "execution_count": 12,
   "metadata": {},
   "outputs": [
    {
     "name": "stdout",
     "output_type": "stream",
     "text": [
      "Hello, The Hong Kong University of Science and Technology\n"
     ]
    }
   ],
   "source": [
    "print(result)"
   ]
  }
 ],
 "metadata": {
  "kernelspec": {
   "display_name": "pydev",
   "language": "python",
   "name": "python3"
  },
  "language_info": {
   "codemirror_mode": {
    "name": "ipython",
    "version": 3
   },
   "file_extension": ".py",
   "mimetype": "text/x-python",
   "name": "python",
   "nbconvert_exporter": "python",
   "pygments_lexer": "ipython3",
   "version": "3.10.12"
  }
 },
 "nbformat": 4,
 "nbformat_minor": 2
}

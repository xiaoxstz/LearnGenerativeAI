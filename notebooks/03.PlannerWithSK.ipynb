{
 "cells": [
  {
   "cell_type": "markdown",
   "metadata": {},
   "source": [
    "## **Planner**\n",
    "\n",
    "![skpatternlarge](./imgs/01/skpatternlarge.png)\n",
    "\n",
    "Planner 是一个方法，是最终目标，结合 LLM 划分如何完成请求的计划。 它通过使用人工智能来混合和匹配在 Kernel 中注册的插件来实现，可以将它们重新组合来完成既定目标。\n",
    "\n",
    "\n",
    "![skpatternlarge](./imgs/03/the-planner.png)\n",
    "\n",
    "Planner 是 Semantic  Kernel 的重要部分。 这意味着我们有多个 Planner 可供选择，如果您有特定需求，您可以创建自定义 Planner。\n",
    "\n",
    "- BasicPlanner SequentialPlanner 的简化版本，将一组函数串在一起。 \n",
    "- ActionPlanner 只需一步即可创建计划。 \n",
    "- SequentialPlanner 创建一个包含一系列步骤的计划，这些步骤与自定义生成的输入和输出变量互连。 \n",
    "- StepwisePlanner 在执行下一步之前增量执行步骤并观察任何结果。"
   ]
  },
  {
   "cell_type": "code",
   "execution_count": 1,
   "metadata": {},
   "outputs": [],
   "source": [
    "import os\n",
    "import sys\n",
    "\n",
    "import semantic_kernel as sk"
   ]
  },
  {
   "cell_type": "code",
   "execution_count": 2,
   "metadata": {},
   "outputs": [],
   "source": [
    "\n",
    "kernel = sk.Kernel()"
   ]
  },
  {
   "cell_type": "code",
   "execution_count": 3,
   "metadata": {},
   "outputs": [],
   "source": [
    "import semantic_kernel.connectors.ai.open_ai as skaoai"
   ]
  },
  {
   "cell_type": "code",
   "execution_count": 4,
   "metadata": {},
   "outputs": [
    {
     "data": {
      "text/plain": [
       "<semantic_kernel.kernel.Kernel at 0x7f736028ffd0>"
      ]
     },
     "execution_count": 4,
     "metadata": {},
     "output_type": "execute_result"
    }
   ],
   "source": [
    "deployment, api_key, endpoint = sk.azure_openai_settings_from_dot_env()\n",
    "# kernel.add_text_completion_service(\"chat-completion-service\", skaoai.AzureChatCompletion(\"GPT3\", endpoint, api_key))\n",
    "kernel.add_chat_service(\"azure_chat_competion_service\", skaoai.AzureChatCompletion(\"gpt-35-turbo\",endpoint,api_key=api_key,api_version = \"2023-07-01-preview\"))"
   ]
  },
  {
   "cell_type": "code",
   "execution_count": 5,
   "metadata": {},
   "outputs": [],
   "source": [
    "from semantic_kernel.planning.basic_planner import BasicPlanner\n",
    "planner = BasicPlanner()"
   ]
  },
  {
   "cell_type": "code",
   "execution_count": 6,
   "metadata": {},
   "outputs": [],
   "source": [
    "base_skills_directory = './plugins'"
   ]
  },
  {
   "cell_type": "code",
   "execution_count": 7,
   "metadata": {},
   "outputs": [],
   "source": [
    "custom_plugin = kernel.import_native_skill_from_directory(base_skills_directory , \"APIPlugin\")\n",
    "writer_plugin = kernel.import_semantic_skill_from_directory(base_skills_directory, \"WriterPlugin\")\n",
    "email_plugin = kernel.import_semantic_skill_from_directory(base_skills_directory, \"EmailPlugin\")\n",
    "translate_plugin = kernel.import_semantic_skill_from_directory(base_skills_directory, \"TransaltePlugin\")"
   ]
  },
  {
   "cell_type": "code",
   "execution_count": 8,
   "metadata": {},
   "outputs": [],
   "source": [
    "ask = \"\"\"\n",
    "Check the weather in Guangzhou and generate dressing tips based on the results and write them as travel weather reminder emails ，translate the results into spanish\n",
    "\"\"\"\n",
    "original_plan = await planner.create_plan_async(ask, kernel)"
   ]
  },
  {
   "cell_type": "code",
   "execution_count": 9,
   "metadata": {},
   "outputs": [
    {
     "name": "stdout",
     "output_type": "stream",
     "text": [
      "{\n",
      "    \"input\": \"Guangzhou Weather and Dressing Tips\",\n",
      "    \"subtasks\": [\n",
      "        {\"function\": \"APIPlugin.WeatherFunction\", \"args\": {\"city\": \"Guangzhou\"}},\n",
      "        {\"function\": \"WriterPlugin.Tips\", \"args\": {\"language\": \"Spanish\"}},\n",
      "        {\"function\": \"EmailPlugin.WeatherMail\"}\n",
      "    ]\n",
      "}\n"
     ]
    }
   ],
   "source": [
    "print(original_plan.generated_plan)"
   ]
  },
  {
   "cell_type": "code",
   "execution_count": 10,
   "metadata": {},
   "outputs": [
    {
     "data": {
      "text/plain": [
       "'Hola,\\n\\nSolo quería recordarte que el clima va a estar bastante caluroso durante nuestro viaje, así que asegúrate de vestir ropa ligera y transpirable para mantenerte fresco. No te olvides de llevar contigo unas gafas de sol y un sombrero para protegerte del sol.\\n\\nEs importante que estemos bien hidratados, así que recuerda beber mucha agua durante el día.\\n\\nAdemás, evita la exposición directa al sol durante largos periodos de tiempo. Intenta buscar sombra cuando sea posible.\\n\\nPor favor, mantente atento a tu estado durante el viaje y no dudes en avisar si necesitas hacer alguna parada para descansar o refrescarte.\\n\\n¡Espero que tengamos un viaje seguro y agradable!\\n\\nSaludos, [Tu nombre]'"
      ]
     },
     "execution_count": 10,
     "metadata": {},
     "output_type": "execute_result"
    }
   ],
   "source": [
    "await planner.execute_plan_async(original_plan, kernel)"
   ]
  }
 ],
 "metadata": {
  "kernelspec": {
   "display_name": "pydev",
   "language": "python",
   "name": "python3"
  },
  "language_info": {
   "codemirror_mode": {
    "name": "ipython",
    "version": 3
   },
   "file_extension": ".py",
   "mimetype": "text/x-python",
   "name": "python",
   "nbconvert_exporter": "python",
   "pygments_lexer": "ipython3",
   "version": "3.10.12"
  },
  "orig_nbformat": 4
 },
 "nbformat": 4,
 "nbformat_minor": 2
}

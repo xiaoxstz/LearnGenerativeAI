{
 "cells": [
  {
   "cell_type": "markdown",
   "metadata": {},
   "source": [
    "## **Embeddings**\n",
    "\n",
    "![skpatternlarge](./imgs/01/skpatternlarge.png)\n",
    "\n",
    "在 OpenAI 中，Embeddings 技术的应用非常广泛，将文本字符串转换为浮点向量，通过向量之间的距离来衡量文本之间的相似度。不同行业希望加入自己的数据 我们就可以把这些企业级的数据通过 OpenAI Embeddings - text-embedding-ada-002 模型查询出向量，并通过映射进行保存，在使用时将问题也转换为向量，通过相似度的算法对比，找出最接近的 TopN 结果，从而找到与问题相关联的企业内容。\n",
    "\n",
    "我们可以通过向量数据库将企业数据向量化后保存，结合 text-embedding-ada-002模型通过向量的相似度进行查询，从而找到与问题相关联的企业内容。现在常用的向量数据库就包括 Qdrant, Milvus, Faiss, Annoy, NMSLIB 等。\n",
    "\n",
    "OpenAI 的文本嵌入向量文本字符串的相关性。 嵌入通常用于以下场景\n",
    "\n",
    "- 搜索（结果按与查询字符串的相关性排序）\n",
    "- 聚类（其中文本字符串按相似性分组）\n",
    "- 推荐（推荐具有相关文本字符串的项目）\n",
    "- 异常检测（识别出相关性很小的异常值）\n",
    "- 多样性测量（分析相似性分布）\n",
    "- 分类（其中文本字符串按其最相似的标签分类）"
   ]
  },
  {
   "cell_type": "code",
   "execution_count": 1,
   "metadata": {},
   "outputs": [
    {
     "name": "stdout",
     "output_type": "stream",
     "text": [
      "Requirement already satisfied: semantic-kernel in /opt/conda/envs/pydev/lib/python3.10/site-packages (0.4.0.dev0)\n",
      "Requirement already satisfied: aiofiles<24.0.0,>=23.1.0 in /opt/conda/envs/pydev/lib/python3.10/site-packages (from semantic-kernel) (23.2.1)\n",
      "Requirement already satisfied: aiohttp<4.0,>=3.8 in /opt/conda/envs/pydev/lib/python3.10/site-packages (from semantic-kernel) (3.9.1)\n",
      "Requirement already satisfied: motor<4.0.0,>=3.3.1 in /opt/conda/envs/pydev/lib/python3.10/site-packages (from semantic-kernel) (3.3.2)\n",
      "Requirement already satisfied: numpy<2.0.0,>=1.24.2 in /opt/conda/envs/pydev/lib/python3.10/site-packages (from semantic-kernel) (1.26.2)\n",
      "Requirement already satisfied: openai>=1.0 in /opt/conda/envs/pydev/lib/python3.10/site-packages (from semantic-kernel) (1.3.6)\n",
      "Requirement already satisfied: openapi_core<0.19.0,>=0.18.0 in /opt/conda/envs/pydev/lib/python3.10/site-packages (from semantic-kernel) (0.18.2)\n",
      "Requirement already satisfied: prance<24.0.0.0,>=23.6.21.0 in /opt/conda/envs/pydev/lib/python3.10/site-packages (from semantic-kernel) (23.6.21.0)\n",
      "Requirement already satisfied: pydantic<2 in /opt/conda/envs/pydev/lib/python3.10/site-packages (from semantic-kernel) (1.10.13)\n",
      "Requirement already satisfied: python-dotenv==1.0.0 in /opt/conda/envs/pydev/lib/python3.10/site-packages (from semantic-kernel) (1.0.0)\n",
      "Requirement already satisfied: regex<2024.0.0,>=2023.6.3 in /opt/conda/envs/pydev/lib/python3.10/site-packages (from semantic-kernel) (2023.10.3)\n",
      "Requirement already satisfied: attrs>=17.3.0 in /opt/conda/envs/pydev/lib/python3.10/site-packages (from aiohttp<4.0,>=3.8->semantic-kernel) (23.1.0)\n",
      "Requirement already satisfied: multidict<7.0,>=4.5 in /opt/conda/envs/pydev/lib/python3.10/site-packages (from aiohttp<4.0,>=3.8->semantic-kernel) (6.0.4)\n",
      "Requirement already satisfied: yarl<2.0,>=1.0 in /opt/conda/envs/pydev/lib/python3.10/site-packages (from aiohttp<4.0,>=3.8->semantic-kernel) (1.9.3)\n",
      "Requirement already satisfied: frozenlist>=1.1.1 in /opt/conda/envs/pydev/lib/python3.10/site-packages (from aiohttp<4.0,>=3.8->semantic-kernel) (1.4.0)\n",
      "Requirement already satisfied: aiosignal>=1.1.2 in /opt/conda/envs/pydev/lib/python3.10/site-packages (from aiohttp<4.0,>=3.8->semantic-kernel) (1.3.1)\n",
      "Requirement already satisfied: async-timeout<5.0,>=4.0 in /opt/conda/envs/pydev/lib/python3.10/site-packages (from aiohttp<4.0,>=3.8->semantic-kernel) (4.0.3)\n",
      "Requirement already satisfied: pymongo<5,>=4.5 in /opt/conda/envs/pydev/lib/python3.10/site-packages (from motor<4.0.0,>=3.3.1->semantic-kernel) (4.6.1)\n",
      "Requirement already satisfied: anyio<4,>=3.5.0 in /opt/conda/envs/pydev/lib/python3.10/site-packages (from openai>=1.0->semantic-kernel) (3.7.1)\n",
      "Requirement already satisfied: distro<2,>=1.7.0 in /opt/conda/envs/pydev/lib/python3.10/site-packages (from openai>=1.0->semantic-kernel) (1.8.0)\n",
      "Requirement already satisfied: httpx<1,>=0.23.0 in /opt/conda/envs/pydev/lib/python3.10/site-packages (from openai>=1.0->semantic-kernel) (0.25.2)\n",
      "Requirement already satisfied: sniffio in /opt/conda/envs/pydev/lib/python3.10/site-packages (from openai>=1.0->semantic-kernel) (1.3.0)\n",
      "Requirement already satisfied: tqdm>4 in /opt/conda/envs/pydev/lib/python3.10/site-packages (from openai>=1.0->semantic-kernel) (4.66.1)\n",
      "Requirement already satisfied: typing-extensions<5,>=4.5 in /opt/conda/envs/pydev/lib/python3.10/site-packages (from openai>=1.0->semantic-kernel) (4.8.0)\n",
      "Requirement already satisfied: asgiref<4.0.0,>=3.6.0 in /opt/conda/envs/pydev/lib/python3.10/site-packages (from openapi_core<0.19.0,>=0.18.0->semantic-kernel) (3.7.2)\n",
      "Requirement already satisfied: isodate in /opt/conda/envs/pydev/lib/python3.10/site-packages (from openapi_core<0.19.0,>=0.18.0->semantic-kernel) (0.6.1)\n",
      "Requirement already satisfied: jsonschema<5.0.0,>=4.18.0 in /opt/conda/envs/pydev/lib/python3.10/site-packages (from openapi_core<0.19.0,>=0.18.0->semantic-kernel) (4.20.0)\n",
      "Requirement already satisfied: jsonschema-spec<0.3.0,>=0.2.3 in /opt/conda/envs/pydev/lib/python3.10/site-packages (from openapi_core<0.19.0,>=0.18.0->semantic-kernel) (0.2.4)\n",
      "Requirement already satisfied: more-itertools in /opt/conda/envs/pydev/lib/python3.10/site-packages (from openapi_core<0.19.0,>=0.18.0->semantic-kernel) (10.1.0)\n",
      "Requirement already satisfied: openapi-schema-validator<0.7.0,>=0.6.0 in /opt/conda/envs/pydev/lib/python3.10/site-packages (from openapi_core<0.19.0,>=0.18.0->semantic-kernel) (0.6.2)\n",
      "Requirement already satisfied: openapi-spec-validator<0.8.0,>=0.7.1 in /opt/conda/envs/pydev/lib/python3.10/site-packages (from openapi_core<0.19.0,>=0.18.0->semantic-kernel) (0.7.1)\n",
      "Requirement already satisfied: parse in /opt/conda/envs/pydev/lib/python3.10/site-packages (from openapi_core<0.19.0,>=0.18.0->semantic-kernel) (1.20.0)\n",
      "Requirement already satisfied: werkzeug in /opt/conda/envs/pydev/lib/python3.10/site-packages (from openapi_core<0.19.0,>=0.18.0->semantic-kernel) (3.0.1)\n",
      "Requirement already satisfied: chardet>=3.0 in /opt/conda/envs/pydev/lib/python3.10/site-packages (from prance<24.0.0.0,>=23.6.21.0->semantic-kernel) (5.2.0)\n",
      "Requirement already satisfied: ruamel.yaml>=0.17.10 in /opt/conda/envs/pydev/lib/python3.10/site-packages (from prance<24.0.0.0,>=23.6.21.0->semantic-kernel) (0.18.5)\n",
      "Requirement already satisfied: requests>=2.25 in /opt/conda/envs/pydev/lib/python3.10/site-packages (from prance<24.0.0.0,>=23.6.21.0->semantic-kernel) (2.31.0)\n",
      "Requirement already satisfied: six~=1.15 in /opt/conda/envs/pydev/lib/python3.10/site-packages (from prance<24.0.0.0,>=23.6.21.0->semantic-kernel) (1.16.0)\n",
      "Requirement already satisfied: packaging>=21.3 in /opt/conda/envs/pydev/lib/python3.10/site-packages (from prance<24.0.0.0,>=23.6.21.0->semantic-kernel) (23.2)\n",
      "Requirement already satisfied: idna>=2.8 in /opt/conda/envs/pydev/lib/python3.10/site-packages (from anyio<4,>=3.5.0->openai>=1.0->semantic-kernel) (3.6)\n",
      "Requirement already satisfied: exceptiongroup in /opt/conda/envs/pydev/lib/python3.10/site-packages (from anyio<4,>=3.5.0->openai>=1.0->semantic-kernel) (1.2.0)\n",
      "Requirement already satisfied: certifi in /opt/conda/envs/pydev/lib/python3.10/site-packages (from httpx<1,>=0.23.0->openai>=1.0->semantic-kernel) (2023.11.17)\n",
      "Requirement already satisfied: httpcore==1.* in /opt/conda/envs/pydev/lib/python3.10/site-packages (from httpx<1,>=0.23.0->openai>=1.0->semantic-kernel) (1.0.2)\n",
      "Requirement already satisfied: h11<0.15,>=0.13 in /opt/conda/envs/pydev/lib/python3.10/site-packages (from httpcore==1.*->httpx<1,>=0.23.0->openai>=1.0->semantic-kernel) (0.14.0)\n",
      "Requirement already satisfied: jsonschema-specifications>=2023.03.6 in /opt/conda/envs/pydev/lib/python3.10/site-packages (from jsonschema<5.0.0,>=4.18.0->openapi_core<0.19.0,>=0.18.0->semantic-kernel) (2023.7.1)\n",
      "Requirement already satisfied: referencing>=0.28.4 in /opt/conda/envs/pydev/lib/python3.10/site-packages (from jsonschema<5.0.0,>=4.18.0->openapi_core<0.19.0,>=0.18.0->semantic-kernel) (0.30.2)\n",
      "Requirement already satisfied: rpds-py>=0.7.1 in /opt/conda/envs/pydev/lib/python3.10/site-packages (from jsonschema<5.0.0,>=4.18.0->openapi_core<0.19.0,>=0.18.0->semantic-kernel) (0.13.2)\n",
      "Requirement already satisfied: PyYAML>=5.1 in /opt/conda/envs/pydev/lib/python3.10/site-packages (from jsonschema-spec<0.3.0,>=0.2.3->openapi_core<0.19.0,>=0.18.0->semantic-kernel) (6.0.1)\n",
      "Requirement already satisfied: pathable<0.5.0,>=0.4.1 in /opt/conda/envs/pydev/lib/python3.10/site-packages (from jsonschema-spec<0.3.0,>=0.2.3->openapi_core<0.19.0,>=0.18.0->semantic-kernel) (0.4.3)\n",
      "Requirement already satisfied: rfc3339-validator in /opt/conda/envs/pydev/lib/python3.10/site-packages (from openapi-schema-validator<0.7.0,>=0.6.0->openapi_core<0.19.0,>=0.18.0->semantic-kernel) (0.1.4)\n",
      "Requirement already satisfied: jsonschema-path<0.4.0,>=0.3.1 in /opt/conda/envs/pydev/lib/python3.10/site-packages (from openapi-spec-validator<0.8.0,>=0.7.1->openapi_core<0.19.0,>=0.18.0->semantic-kernel) (0.3.2)\n",
      "Requirement already satisfied: lazy-object-proxy<2.0.0,>=1.7.1 in /opt/conda/envs/pydev/lib/python3.10/site-packages (from openapi-spec-validator<0.8.0,>=0.7.1->openapi_core<0.19.0,>=0.18.0->semantic-kernel) (1.9.0)\n",
      "Requirement already satisfied: dnspython<3.0.0,>=1.16.0 in /opt/conda/envs/pydev/lib/python3.10/site-packages (from pymongo<5,>=4.5->motor<4.0.0,>=3.3.1->semantic-kernel) (2.4.2)\n",
      "Requirement already satisfied: charset-normalizer<4,>=2 in /opt/conda/envs/pydev/lib/python3.10/site-packages (from requests>=2.25->prance<24.0.0.0,>=23.6.21.0->semantic-kernel) (3.3.2)\n",
      "Requirement already satisfied: urllib3<3,>=1.21.1 in /opt/conda/envs/pydev/lib/python3.10/site-packages (from requests>=2.25->prance<24.0.0.0,>=23.6.21.0->semantic-kernel) (1.26.18)\n",
      "Requirement already satisfied: ruamel.yaml.clib>=0.2.7 in /opt/conda/envs/pydev/lib/python3.10/site-packages (from ruamel.yaml>=0.17.10->prance<24.0.0.0,>=23.6.21.0->semantic-kernel) (0.2.8)\n",
      "Requirement already satisfied: MarkupSafe>=2.1.1 in /opt/conda/envs/pydev/lib/python3.10/site-packages (from werkzeug->openapi_core<0.19.0,>=0.18.0->semantic-kernel) (2.1.3)\n",
      "Requirement already satisfied: qdrant_client in /opt/conda/envs/pydev/lib/python3.10/site-packages (1.6.9)\n",
      "Requirement already satisfied: grpcio>=1.41.0 in /opt/conda/envs/pydev/lib/python3.10/site-packages (from qdrant_client) (1.59.3)\n",
      "Requirement already satisfied: grpcio-tools>=1.41.0 in /opt/conda/envs/pydev/lib/python3.10/site-packages (from qdrant_client) (1.59.3)\n",
      "Requirement already satisfied: httpx>=0.14.0 in /opt/conda/envs/pydev/lib/python3.10/site-packages (from httpx[http2]>=0.14.0->qdrant_client) (0.25.2)\n",
      "Requirement already satisfied: numpy>=1.21 in /opt/conda/envs/pydev/lib/python3.10/site-packages (from qdrant_client) (1.26.2)\n",
      "Requirement already satisfied: portalocker<3.0.0,>=2.7.0 in /opt/conda/envs/pydev/lib/python3.10/site-packages (from qdrant_client) (2.8.2)\n",
      "Requirement already satisfied: pydantic>=1.10.8 in /opt/conda/envs/pydev/lib/python3.10/site-packages (from qdrant_client) (1.10.13)\n",
      "Requirement already satisfied: urllib3<2.0.0,>=1.26.14 in /opt/conda/envs/pydev/lib/python3.10/site-packages (from qdrant_client) (1.26.18)\n",
      "Requirement already satisfied: protobuf<5.0dev,>=4.21.6 in /opt/conda/envs/pydev/lib/python3.10/site-packages (from grpcio-tools>=1.41.0->qdrant_client) (4.25.1)\n",
      "Requirement already satisfied: setuptools in /opt/conda/envs/pydev/lib/python3.10/site-packages (from grpcio-tools>=1.41.0->qdrant_client) (68.2.2)\n",
      "Requirement already satisfied: anyio in /opt/conda/envs/pydev/lib/python3.10/site-packages (from httpx>=0.14.0->httpx[http2]>=0.14.0->qdrant_client) (3.7.1)\n",
      "Requirement already satisfied: certifi in /opt/conda/envs/pydev/lib/python3.10/site-packages (from httpx>=0.14.0->httpx[http2]>=0.14.0->qdrant_client) (2023.11.17)\n",
      "Requirement already satisfied: httpcore==1.* in /opt/conda/envs/pydev/lib/python3.10/site-packages (from httpx>=0.14.0->httpx[http2]>=0.14.0->qdrant_client) (1.0.2)\n",
      "Requirement already satisfied: idna in /opt/conda/envs/pydev/lib/python3.10/site-packages (from httpx>=0.14.0->httpx[http2]>=0.14.0->qdrant_client) (3.6)\n",
      "Requirement already satisfied: sniffio in /opt/conda/envs/pydev/lib/python3.10/site-packages (from httpx>=0.14.0->httpx[http2]>=0.14.0->qdrant_client) (1.3.0)\n",
      "Requirement already satisfied: h11<0.15,>=0.13 in /opt/conda/envs/pydev/lib/python3.10/site-packages (from httpcore==1.*->httpx>=0.14.0->httpx[http2]>=0.14.0->qdrant_client) (0.14.0)\n",
      "Requirement already satisfied: h2<5,>=3 in /opt/conda/envs/pydev/lib/python3.10/site-packages (from httpx[http2]>=0.14.0->qdrant_client) (4.1.0)\n",
      "Requirement already satisfied: typing-extensions>=4.2.0 in /opt/conda/envs/pydev/lib/python3.10/site-packages (from pydantic>=1.10.8->qdrant_client) (4.8.0)\n",
      "Requirement already satisfied: hyperframe<7,>=6.0 in /opt/conda/envs/pydev/lib/python3.10/site-packages (from h2<5,>=3->httpx[http2]>=0.14.0->qdrant_client) (6.0.1)\n",
      "Requirement already satisfied: hpack<5,>=4.0 in /opt/conda/envs/pydev/lib/python3.10/site-packages (from h2<5,>=3->httpx[http2]>=0.14.0->qdrant_client) (4.0.0)\n",
      "Requirement already satisfied: exceptiongroup in /opt/conda/envs/pydev/lib/python3.10/site-packages (from anyio->httpx>=0.14.0->httpx[http2]>=0.14.0->qdrant_client) (1.2.0)\n"
     ]
    }
   ],
   "source": [
    "! pip install semantic-kernel -U\n",
    "! pip install qdrant_client -U"
   ]
  },
  {
   "cell_type": "code",
   "execution_count": 2,
   "metadata": {},
   "outputs": [],
   "source": [
    "import semantic_kernel as sk\n",
    "from semantic_kernel.connectors.ai.open_ai import AzureChatCompletion, AzureTextEmbedding\n",
    "from semantic_kernel.connectors.memory.qdrant import QdrantMemoryStore"
   ]
  },
  {
   "cell_type": "code",
   "execution_count": 3,
   "metadata": {},
   "outputs": [],
   "source": [
    "deployment, api_key, endpoint = sk.azure_openai_settings_from_dot_env()"
   ]
  },
  {
   "cell_type": "code",
   "execution_count": 4,
   "metadata": {},
   "outputs": [],
   "source": [
    "kernel = sk.Kernel()"
   ]
  },
  {
   "cell_type": "code",
   "execution_count": 5,
   "metadata": {},
   "outputs": [
    {
     "data": {
      "text/plain": [
       "<semantic_kernel.kernel.Kernel at 0x7fdbc01e9750>"
      ]
     },
     "execution_count": 5,
     "metadata": {},
     "output_type": "execute_result"
    }
   ],
   "source": [
    "\n",
    "\n",
    "kernel.add_chat_service(\"azure_chat_competion_service\", AzureChatCompletion(\"gpt-35-turbo\",endpoint,api_key=api_key,api_version = \"2023-07-01-preview\"))\n",
    "\n",
    "\n",
    "kernel.add_text_embedding_generation_service(\n",
    "        \"embeddings_services\", AzureTextEmbedding(\"EmbeddingModel\", endpoint,api_key=api_key,api_version = \"2023-07-01-preview\")\n",
    ")"
   ]
  },
  {
   "cell_type": "code",
   "execution_count": 6,
   "metadata": {},
   "outputs": [],
   "source": [
    "qdrant_store = QdrantMemoryStore(vector_size=1536, url=\"http://localhost\",port=6333)\n",
    "await qdrant_store.create_collection_async('aboutMe')"
   ]
  },
  {
   "cell_type": "code",
   "execution_count": 7,
   "metadata": {},
   "outputs": [],
   "source": [
    "kernel.register_memory_store(memory_store=qdrant_store)"
   ]
  },
  {
   "cell_type": "code",
   "execution_count": 8,
   "metadata": {},
   "outputs": [],
   "source": [
    "base_vectordb = 'aboutMe'"
   ]
  },
  {
   "cell_type": "code",
   "execution_count": 9,
   "metadata": {},
   "outputs": [],
   "source": [
    "await kernel.memory.save_information_async(base_vectordb, id=\"info1\", text=\"卢建晖是微软高级云技术布道师\")\n",
    "await kernel.memory.save_information_async(base_vectordb, id=\"info2\", text=\"卢建晖是前微软微软最有价值专家\")\n",
    "await kernel.memory.save_information_async(base_vectordb, id=\"info3\", text=\"卢建晖是人工智能专家\")\n",
    "await kernel.memory.save_information_async(base_vectordb, id=\"info4\", text=\"OpenAI 是非常热的人工智能公司\")"
   ]
  },
  {
   "cell_type": "code",
   "execution_count": 10,
   "metadata": {},
   "outputs": [],
   "source": [
    "ask = \"卢建晖是谁？\"\n",
    "\n",
    "memories = await kernel.memory.search_async(\n",
    "    base_vectordb, ask, limit=5, min_relevance_score=0.8\n",
    ")"
   ]
  },
  {
   "cell_type": "code",
   "execution_count": 11,
   "metadata": {},
   "outputs": [
    {
     "name": "stdout",
     "output_type": "stream",
     "text": [
      "Top 1 Result: 卢建晖是人工智能专家 with score 0.8930044\n",
      "Top 2 Result: 卢建晖是前微软微软最有价值专家 with score 0.8702849\n",
      "Top 3 Result: 卢建晖是微软高级云技术布道师 with score 0.8636302\n"
     ]
    }
   ],
   "source": [
    "i = 0\n",
    "for memory in memories:\n",
    "    i = i + 1\n",
    "    print(f\"Top {i} Result: {memory.text} with score {memory.relevance}\")"
   ]
  }
 ],
 "metadata": {
  "kernelspec": {
   "display_name": "pydev",
   "language": "python",
   "name": "python3"
  },
  "language_info": {
   "codemirror_mode": {
    "name": "ipython",
    "version": 3
   },
   "file_extension": ".py",
   "mimetype": "text/x-python",
   "name": "python",
   "nbconvert_exporter": "python",
   "pygments_lexer": "ipython3",
   "version": "3.10.12"
  }
 },
 "nbformat": 4,
 "nbformat_minor": 2
}
